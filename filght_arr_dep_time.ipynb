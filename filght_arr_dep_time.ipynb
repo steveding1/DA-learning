{
  "nbformat": 4,
  "nbformat_minor": 0,
  "metadata": {
    "colab": {
      "provenance": [],
      "authorship_tag": "ABX9TyNhJwpVIUu93y5GbMz4/cS1",
      "include_colab_link": true
    },
    "kernelspec": {
      "name": "python3",
      "display_name": "Python 3"
    },
    "language_info": {
      "name": "python"
    }
  },
  "cells": [
    {
      "cell_type": "markdown",
      "metadata": {
        "id": "view-in-github",
        "colab_type": "text"
      },
      "source": [
        "<a href=\"https://colab.research.google.com/github/steveding1/DA-learning/blob/master/filght_arr_dep_time.ipynb\" target=\"_parent\"><img src=\"https://colab.research.google.com/assets/colab-badge.svg\" alt=\"Open In Colab\"/></a>"
      ]
    },
    {
      "cell_type": "code",
      "execution_count": 76,
      "metadata": {
        "id": "I5BSjcLFHrlG"
      },
      "outputs": [],
      "source": [
        "import pandas as pd\n",
        "import matplotlib.pyplot as plt\n",
        "from matplotlib.dates import DateFormatter\n",
        "from matplotlib.dates import HourLocator"
      ]
    },
    {
      "cell_type": "code",
      "source": [
        "data = pd.read_html('C033.html')[3][2:][['Date','Aircraft','Departure','Arrival','Duration']]\n",
        "data.set_index('Date',inplace=True)\n",
        "data"
      ],
      "metadata": {
        "colab": {
          "base_uri": "https://localhost:8080/",
          "height": 455
        },
        "id": "xeg0I7jyH3wh",
        "outputId": "e8f55ea4-1f9d-432b-fa9f-a563db9ffcd6"
      },
      "execution_count": 77,
      "outputs": [
        {
          "output_type": "execute_result",
          "data": {
            "text/plain": [
              "            Aircraft    Departure            Arrival Duration\n",
              "Date                                                         \n",
              "2022-Nov-27     B77L  11:47PM PST  09:58AM AEDT (+2)    15:10\n",
              "2022-Nov-26     B77L  11:32PM PST  10:27AM AEDT (+2)    15:54\n",
              "2022-Nov-26     B77L  01:55AM PST  11:58AM AEDT (+1)    15:02\n",
              "2022-Nov-25     B77L  12:05AM PST  10:29AM AEDT (+1)    15:23\n",
              "2022-Nov-23     B77L  11:21PM PST  09:47AM AEDT (+2)    15:25\n",
              "...              ...          ...                ...      ...\n",
              "2022-Sep-02     B789  01:03AM PDT  08:46AM AEST (+1)    14:42\n",
              "2022-Aug-31     B789  11:35PM PDT  07:25AM AEST (+2)    14:49\n",
              "2022-Aug-31     B789  12:54AM PDT  09:10AM AEST (+1)    15:16\n",
              "2022-Aug-29     B789  11:42PM PDT  07:20AM AEST (+2)    14:37\n",
              "2022-Aug-29     B789  12:00AM PDT  07:33AM AEST (+1)    14:32\n",
              "\n",
              "[92 rows x 4 columns]"
            ],
            "text/html": [
              "\n",
              "  <div id=\"df-c36953fa-b99b-4194-98f1-bf38a6b07ff2\">\n",
              "    <div class=\"colab-df-container\">\n",
              "      <div>\n",
              "<style scoped>\n",
              "    .dataframe tbody tr th:only-of-type {\n",
              "        vertical-align: middle;\n",
              "    }\n",
              "\n",
              "    .dataframe tbody tr th {\n",
              "        vertical-align: top;\n",
              "    }\n",
              "\n",
              "    .dataframe thead th {\n",
              "        text-align: right;\n",
              "    }\n",
              "</style>\n",
              "<table border=\"1\" class=\"dataframe\">\n",
              "  <thead>\n",
              "    <tr style=\"text-align: right;\">\n",
              "      <th></th>\n",
              "      <th>Aircraft</th>\n",
              "      <th>Departure</th>\n",
              "      <th>Arrival</th>\n",
              "      <th>Duration</th>\n",
              "    </tr>\n",
              "    <tr>\n",
              "      <th>Date</th>\n",
              "      <th></th>\n",
              "      <th></th>\n",
              "      <th></th>\n",
              "      <th></th>\n",
              "    </tr>\n",
              "  </thead>\n",
              "  <tbody>\n",
              "    <tr>\n",
              "      <th>2022-Nov-27</th>\n",
              "      <td>B77L</td>\n",
              "      <td>11:47PM PST</td>\n",
              "      <td>09:58AM AEDT (+2)</td>\n",
              "      <td>15:10</td>\n",
              "    </tr>\n",
              "    <tr>\n",
              "      <th>2022-Nov-26</th>\n",
              "      <td>B77L</td>\n",
              "      <td>11:32PM PST</td>\n",
              "      <td>10:27AM AEDT (+2)</td>\n",
              "      <td>15:54</td>\n",
              "    </tr>\n",
              "    <tr>\n",
              "      <th>2022-Nov-26</th>\n",
              "      <td>B77L</td>\n",
              "      <td>01:55AM PST</td>\n",
              "      <td>11:58AM AEDT (+1)</td>\n",
              "      <td>15:02</td>\n",
              "    </tr>\n",
              "    <tr>\n",
              "      <th>2022-Nov-25</th>\n",
              "      <td>B77L</td>\n",
              "      <td>12:05AM PST</td>\n",
              "      <td>10:29AM AEDT (+1)</td>\n",
              "      <td>15:23</td>\n",
              "    </tr>\n",
              "    <tr>\n",
              "      <th>2022-Nov-23</th>\n",
              "      <td>B77L</td>\n",
              "      <td>11:21PM PST</td>\n",
              "      <td>09:47AM AEDT (+2)</td>\n",
              "      <td>15:25</td>\n",
              "    </tr>\n",
              "    <tr>\n",
              "      <th>...</th>\n",
              "      <td>...</td>\n",
              "      <td>...</td>\n",
              "      <td>...</td>\n",
              "      <td>...</td>\n",
              "    </tr>\n",
              "    <tr>\n",
              "      <th>2022-Sep-02</th>\n",
              "      <td>B789</td>\n",
              "      <td>01:03AM PDT</td>\n",
              "      <td>08:46AM AEST (+1)</td>\n",
              "      <td>14:42</td>\n",
              "    </tr>\n",
              "    <tr>\n",
              "      <th>2022-Aug-31</th>\n",
              "      <td>B789</td>\n",
              "      <td>11:35PM PDT</td>\n",
              "      <td>07:25AM AEST (+2)</td>\n",
              "      <td>14:49</td>\n",
              "    </tr>\n",
              "    <tr>\n",
              "      <th>2022-Aug-31</th>\n",
              "      <td>B789</td>\n",
              "      <td>12:54AM PDT</td>\n",
              "      <td>09:10AM AEST (+1)</td>\n",
              "      <td>15:16</td>\n",
              "    </tr>\n",
              "    <tr>\n",
              "      <th>2022-Aug-29</th>\n",
              "      <td>B789</td>\n",
              "      <td>11:42PM PDT</td>\n",
              "      <td>07:20AM AEST (+2)</td>\n",
              "      <td>14:37</td>\n",
              "    </tr>\n",
              "    <tr>\n",
              "      <th>2022-Aug-29</th>\n",
              "      <td>B789</td>\n",
              "      <td>12:00AM PDT</td>\n",
              "      <td>07:33AM AEST (+1)</td>\n",
              "      <td>14:32</td>\n",
              "    </tr>\n",
              "  </tbody>\n",
              "</table>\n",
              "<p>92 rows × 4 columns</p>\n",
              "</div>\n",
              "      <button class=\"colab-df-convert\" onclick=\"convertToInteractive('df-c36953fa-b99b-4194-98f1-bf38a6b07ff2')\"\n",
              "              title=\"Convert this dataframe to an interactive table.\"\n",
              "              style=\"display:none;\">\n",
              "        \n",
              "  <svg xmlns=\"http://www.w3.org/2000/svg\" height=\"24px\"viewBox=\"0 0 24 24\"\n",
              "       width=\"24px\">\n",
              "    <path d=\"M0 0h24v24H0V0z\" fill=\"none\"/>\n",
              "    <path d=\"M18.56 5.44l.94 2.06.94-2.06 2.06-.94-2.06-.94-.94-2.06-.94 2.06-2.06.94zm-11 1L8.5 8.5l.94-2.06 2.06-.94-2.06-.94L8.5 2.5l-.94 2.06-2.06.94zm10 10l.94 2.06.94-2.06 2.06-.94-2.06-.94-.94-2.06-.94 2.06-2.06.94z\"/><path d=\"M17.41 7.96l-1.37-1.37c-.4-.4-.92-.59-1.43-.59-.52 0-1.04.2-1.43.59L10.3 9.45l-7.72 7.72c-.78.78-.78 2.05 0 2.83L4 21.41c.39.39.9.59 1.41.59.51 0 1.02-.2 1.41-.59l7.78-7.78 2.81-2.81c.8-.78.8-2.07 0-2.86zM5.41 20L4 18.59l7.72-7.72 1.47 1.35L5.41 20z\"/>\n",
              "  </svg>\n",
              "      </button>\n",
              "      \n",
              "  <style>\n",
              "    .colab-df-container {\n",
              "      display:flex;\n",
              "      flex-wrap:wrap;\n",
              "      gap: 12px;\n",
              "    }\n",
              "\n",
              "    .colab-df-convert {\n",
              "      background-color: #E8F0FE;\n",
              "      border: none;\n",
              "      border-radius: 50%;\n",
              "      cursor: pointer;\n",
              "      display: none;\n",
              "      fill: #1967D2;\n",
              "      height: 32px;\n",
              "      padding: 0 0 0 0;\n",
              "      width: 32px;\n",
              "    }\n",
              "\n",
              "    .colab-df-convert:hover {\n",
              "      background-color: #E2EBFA;\n",
              "      box-shadow: 0px 1px 2px rgba(60, 64, 67, 0.3), 0px 1px 3px 1px rgba(60, 64, 67, 0.15);\n",
              "      fill: #174EA6;\n",
              "    }\n",
              "\n",
              "    [theme=dark] .colab-df-convert {\n",
              "      background-color: #3B4455;\n",
              "      fill: #D2E3FC;\n",
              "    }\n",
              "\n",
              "    [theme=dark] .colab-df-convert:hover {\n",
              "      background-color: #434B5C;\n",
              "      box-shadow: 0px 1px 3px 1px rgba(0, 0, 0, 0.15);\n",
              "      filter: drop-shadow(0px 1px 2px rgba(0, 0, 0, 0.3));\n",
              "      fill: #FFFFFF;\n",
              "    }\n",
              "  </style>\n",
              "\n",
              "      <script>\n",
              "        const buttonEl =\n",
              "          document.querySelector('#df-c36953fa-b99b-4194-98f1-bf38a6b07ff2 button.colab-df-convert');\n",
              "        buttonEl.style.display =\n",
              "          google.colab.kernel.accessAllowed ? 'block' : 'none';\n",
              "\n",
              "        async function convertToInteractive(key) {\n",
              "          const element = document.querySelector('#df-c36953fa-b99b-4194-98f1-bf38a6b07ff2');\n",
              "          const dataTable =\n",
              "            await google.colab.kernel.invokeFunction('convertToInteractive',\n",
              "                                                     [key], {});\n",
              "          if (!dataTable) return;\n",
              "\n",
              "          const docLinkHtml = 'Like what you see? Visit the ' +\n",
              "            '<a target=\"_blank\" href=https://colab.research.google.com/notebooks/data_table.ipynb>data table notebook</a>'\n",
              "            + ' to learn more about interactive tables.';\n",
              "          element.innerHTML = '';\n",
              "          dataTable['output_type'] = 'display_data';\n",
              "          await google.colab.output.renderOutput(dataTable, element);\n",
              "          const docLink = document.createElement('div');\n",
              "          docLink.innerHTML = docLinkHtml;\n",
              "          element.appendChild(docLink);\n",
              "        }\n",
              "      </script>\n",
              "    </div>\n",
              "  </div>\n",
              "  "
            ]
          },
          "metadata": {},
          "execution_count": 77
        }
      ]
    },
    {
      "cell_type": "code",
      "source": [
        "data.value_counts('Aircraft')"
      ],
      "metadata": {
        "colab": {
          "base_uri": "https://localhost:8080/"
        },
        "id": "lyvjbxXBIW3U",
        "outputId": "0935677a-f352-4dc5-f8c0-1a525ac5dbdc"
      },
      "execution_count": 78,
      "outputs": [
        {
          "output_type": "execute_result",
          "data": {
            "text/plain": [
              "Aircraft\n",
              "B77L    79\n",
              "B789     8\n",
              "B77W     5\n",
              "dtype: int64"
            ]
          },
          "metadata": {},
          "execution_count": 78
        }
      ]
    },
    {
      "cell_type": "code",
      "source": [
        "data['Arrival'] = data.Arrival.str.slice(0,-10)\n",
        "data['Arrival'] = pd.to_datetime(data['Arrival'] ,format= '%I:%M%p')\n",
        "arrives = data['Arrival']\n",
        "arrives.index = pd.date_range(end='2022-Nov-27',  periods=92)[::-1]\n",
        "arrives = arrives.to_frame()"
      ],
      "metadata": {
        "id": "fFl057FsNVDl"
      },
      "execution_count": 79,
      "outputs": []
    },
    {
      "cell_type": "code",
      "source": [
        "data['Departure'] = data.index + ' ' + data.Departure.str.slice(0,-4)\n",
        "data['Departure'] = pd.to_datetime(data['Departure'])\n",
        "data['Departure']"
      ],
      "metadata": {
        "colab": {
          "base_uri": "https://localhost:8080/"
        },
        "id": "lowh_98F0oO0",
        "outputId": "61ad6fe8-918c-4aed-880f-9b71044d8d58"
      },
      "execution_count": 80,
      "outputs": [
        {
          "output_type": "execute_result",
          "data": {
            "text/plain": [
              "Date\n",
              "2022-Nov-27   2022-11-27 23:47:00\n",
              "2022-Nov-26   2022-11-26 23:32:00\n",
              "2022-Nov-26   2022-11-26 01:55:00\n",
              "2022-Nov-25   2022-11-25 00:05:00\n",
              "2022-Nov-23   2022-11-23 23:21:00\n",
              "                      ...        \n",
              "2022-Sep-02   2022-09-02 01:03:00\n",
              "2022-Aug-31   2022-08-31 23:35:00\n",
              "2022-Aug-31   2022-08-31 00:54:00\n",
              "2022-Aug-29   2022-08-29 23:42:00\n",
              "2022-Aug-29   2022-08-29 00:00:00\n",
              "Name: Departure, Length: 92, dtype: datetime64[ns]"
            ]
          },
          "metadata": {},
          "execution_count": 80
        }
      ]
    },
    {
      "cell_type": "code",
      "source": [
        "departures = data['Departure'].to_frame()\n",
        "departures.index = pd.date_range(end='2022-Nov-27',  periods=92)[::-1]\n",
        "departures"
      ],
      "metadata": {
        "colab": {
          "base_uri": "https://localhost:8080/",
          "height": 423
        },
        "id": "hsj8WutoT30N",
        "outputId": "6db5c047-83bb-4e3d-d355-bacf1bbceaa4"
      },
      "execution_count": 81,
      "outputs": [
        {
          "output_type": "execute_result",
          "data": {
            "text/plain": [
              "                     Departure\n",
              "2022-11-27 2022-11-27 23:47:00\n",
              "2022-11-26 2022-11-26 23:32:00\n",
              "2022-11-25 2022-11-26 01:55:00\n",
              "2022-11-24 2022-11-25 00:05:00\n",
              "2022-11-23 2022-11-23 23:21:00\n",
              "...                        ...\n",
              "2022-09-01 2022-09-02 01:03:00\n",
              "2022-08-31 2022-08-31 23:35:00\n",
              "2022-08-30 2022-08-31 00:54:00\n",
              "2022-08-29 2022-08-29 23:42:00\n",
              "2022-08-28 2022-08-29 00:00:00\n",
              "\n",
              "[92 rows x 1 columns]"
            ],
            "text/html": [
              "\n",
              "  <div id=\"df-e6c7dd64-87c5-42d2-b427-e828c76e2019\">\n",
              "    <div class=\"colab-df-container\">\n",
              "      <div>\n",
              "<style scoped>\n",
              "    .dataframe tbody tr th:only-of-type {\n",
              "        vertical-align: middle;\n",
              "    }\n",
              "\n",
              "    .dataframe tbody tr th {\n",
              "        vertical-align: top;\n",
              "    }\n",
              "\n",
              "    .dataframe thead th {\n",
              "        text-align: right;\n",
              "    }\n",
              "</style>\n",
              "<table border=\"1\" class=\"dataframe\">\n",
              "  <thead>\n",
              "    <tr style=\"text-align: right;\">\n",
              "      <th></th>\n",
              "      <th>Departure</th>\n",
              "    </tr>\n",
              "  </thead>\n",
              "  <tbody>\n",
              "    <tr>\n",
              "      <th>2022-11-27</th>\n",
              "      <td>2022-11-27 23:47:00</td>\n",
              "    </tr>\n",
              "    <tr>\n",
              "      <th>2022-11-26</th>\n",
              "      <td>2022-11-26 23:32:00</td>\n",
              "    </tr>\n",
              "    <tr>\n",
              "      <th>2022-11-25</th>\n",
              "      <td>2022-11-26 01:55:00</td>\n",
              "    </tr>\n",
              "    <tr>\n",
              "      <th>2022-11-24</th>\n",
              "      <td>2022-11-25 00:05:00</td>\n",
              "    </tr>\n",
              "    <tr>\n",
              "      <th>2022-11-23</th>\n",
              "      <td>2022-11-23 23:21:00</td>\n",
              "    </tr>\n",
              "    <tr>\n",
              "      <th>...</th>\n",
              "      <td>...</td>\n",
              "    </tr>\n",
              "    <tr>\n",
              "      <th>2022-09-01</th>\n",
              "      <td>2022-09-02 01:03:00</td>\n",
              "    </tr>\n",
              "    <tr>\n",
              "      <th>2022-08-31</th>\n",
              "      <td>2022-08-31 23:35:00</td>\n",
              "    </tr>\n",
              "    <tr>\n",
              "      <th>2022-08-30</th>\n",
              "      <td>2022-08-31 00:54:00</td>\n",
              "    </tr>\n",
              "    <tr>\n",
              "      <th>2022-08-29</th>\n",
              "      <td>2022-08-29 23:42:00</td>\n",
              "    </tr>\n",
              "    <tr>\n",
              "      <th>2022-08-28</th>\n",
              "      <td>2022-08-29 00:00:00</td>\n",
              "    </tr>\n",
              "  </tbody>\n",
              "</table>\n",
              "<p>92 rows × 1 columns</p>\n",
              "</div>\n",
              "      <button class=\"colab-df-convert\" onclick=\"convertToInteractive('df-e6c7dd64-87c5-42d2-b427-e828c76e2019')\"\n",
              "              title=\"Convert this dataframe to an interactive table.\"\n",
              "              style=\"display:none;\">\n",
              "        \n",
              "  <svg xmlns=\"http://www.w3.org/2000/svg\" height=\"24px\"viewBox=\"0 0 24 24\"\n",
              "       width=\"24px\">\n",
              "    <path d=\"M0 0h24v24H0V0z\" fill=\"none\"/>\n",
              "    <path d=\"M18.56 5.44l.94 2.06.94-2.06 2.06-.94-2.06-.94-.94-2.06-.94 2.06-2.06.94zm-11 1L8.5 8.5l.94-2.06 2.06-.94-2.06-.94L8.5 2.5l-.94 2.06-2.06.94zm10 10l.94 2.06.94-2.06 2.06-.94-2.06-.94-.94-2.06-.94 2.06-2.06.94z\"/><path d=\"M17.41 7.96l-1.37-1.37c-.4-.4-.92-.59-1.43-.59-.52 0-1.04.2-1.43.59L10.3 9.45l-7.72 7.72c-.78.78-.78 2.05 0 2.83L4 21.41c.39.39.9.59 1.41.59.51 0 1.02-.2 1.41-.59l7.78-7.78 2.81-2.81c.8-.78.8-2.07 0-2.86zM5.41 20L4 18.59l7.72-7.72 1.47 1.35L5.41 20z\"/>\n",
              "  </svg>\n",
              "      </button>\n",
              "      \n",
              "  <style>\n",
              "    .colab-df-container {\n",
              "      display:flex;\n",
              "      flex-wrap:wrap;\n",
              "      gap: 12px;\n",
              "    }\n",
              "\n",
              "    .colab-df-convert {\n",
              "      background-color: #E8F0FE;\n",
              "      border: none;\n",
              "      border-radius: 50%;\n",
              "      cursor: pointer;\n",
              "      display: none;\n",
              "      fill: #1967D2;\n",
              "      height: 32px;\n",
              "      padding: 0 0 0 0;\n",
              "      width: 32px;\n",
              "    }\n",
              "\n",
              "    .colab-df-convert:hover {\n",
              "      background-color: #E2EBFA;\n",
              "      box-shadow: 0px 1px 2px rgba(60, 64, 67, 0.3), 0px 1px 3px 1px rgba(60, 64, 67, 0.15);\n",
              "      fill: #174EA6;\n",
              "    }\n",
              "\n",
              "    [theme=dark] .colab-df-convert {\n",
              "      background-color: #3B4455;\n",
              "      fill: #D2E3FC;\n",
              "    }\n",
              "\n",
              "    [theme=dark] .colab-df-convert:hover {\n",
              "      background-color: #434B5C;\n",
              "      box-shadow: 0px 1px 3px 1px rgba(0, 0, 0, 0.15);\n",
              "      filter: drop-shadow(0px 1px 2px rgba(0, 0, 0, 0.3));\n",
              "      fill: #FFFFFF;\n",
              "    }\n",
              "  </style>\n",
              "\n",
              "      <script>\n",
              "        const buttonEl =\n",
              "          document.querySelector('#df-e6c7dd64-87c5-42d2-b427-e828c76e2019 button.colab-df-convert');\n",
              "        buttonEl.style.display =\n",
              "          google.colab.kernel.accessAllowed ? 'block' : 'none';\n",
              "\n",
              "        async function convertToInteractive(key) {\n",
              "          const element = document.querySelector('#df-e6c7dd64-87c5-42d2-b427-e828c76e2019');\n",
              "          const dataTable =\n",
              "            await google.colab.kernel.invokeFunction('convertToInteractive',\n",
              "                                                     [key], {});\n",
              "          if (!dataTable) return;\n",
              "\n",
              "          const docLinkHtml = 'Like what you see? Visit the ' +\n",
              "            '<a target=\"_blank\" href=https://colab.research.google.com/notebooks/data_table.ipynb>data table notebook</a>'\n",
              "            + ' to learn more about interactive tables.';\n",
              "          element.innerHTML = '';\n",
              "          dataTable['output_type'] = 'display_data';\n",
              "          await google.colab.output.renderOutput(dataTable, element);\n",
              "          const docLink = document.createElement('div');\n",
              "          docLink.innerHTML = docLinkHtml;\n",
              "          element.appendChild(docLink);\n",
              "        }\n",
              "      </script>\n",
              "    </div>\n",
              "  </div>\n",
              "  "
            ]
          },
          "metadata": {},
          "execution_count": 81
        }
      ]
    },
    {
      "cell_type": "code",
      "source": [
        "departures['Departure'] = (departures['Departure'] + pd.DateOffset(hours=4)).astype(str)\n",
        "departures['Departure'] = pd.to_datetime(departures['Departure'].str.slice(11) ,format= '%H:%M:%S')"
      ],
      "metadata": {
        "id": "H6bw1xmG_wAv"
      },
      "execution_count": 82,
      "outputs": []
    },
    {
      "cell_type": "code",
      "source": [
        "fig, ax1 = plt.subplots(figsize=(14, 8))\n",
        "ax2 = ax1.twinx()\n",
        "ax1.yaxis.set_major_formatter(DateFormatter(\"%H:%M\"))\n",
        "ax1.xaxis.set_major_formatter(DateFormatter(\"%m-%d\"))\n",
        "ax2.yaxis.set_major_formatter(DateFormatter(\"%H:%M\"))\n",
        "dot1, = ax1.plot_date(arrives.index,arrives.Arrival,xdate=True, ydate=1, marker='*', label='arrives')\n",
        "dot2, = ax2.plot_date(departures.index,departures.Departure, xdate=True, ydate=1, color='r', label='departures')\n",
        "ax1.legend(handles=[dot1, dot2])\n",
        "plt.grid(axis='x',which='both')\n",
        "plt.show()"
      ],
      "metadata": {
        "colab": {
          "base_uri": "https://localhost:8080/",
          "height": 483
        },
        "id": "lSSJJQpwPcs8",
        "outputId": "a16a882f-d816-41aa-dc8c-dce3028db30f"
      },
      "execution_count": 83,
      "outputs": [
        {
          "output_type": "display_data",
          "data": {
            "text/plain": [
              "<Figure size 1008x576 with 2 Axes>"
            ],
            "image/png": "[encoded data removed]"
          },
          "metadata": {
            "needs_background": "light"
          }
        }
      ]
    }
  ]
}