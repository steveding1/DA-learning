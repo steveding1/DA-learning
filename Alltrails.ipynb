{
  "nbformat": 4,
  "nbformat_minor": 0,
  "metadata": {
    "colab": {
      "name": "Alltrails.ipynb",
      "provenance": [],
      "authorship_tag": "ABX9TyNXsGjOOQ7xsapiaamaLz1j",
      "include_colab_link": true
    },
    "kernelspec": {
      "name": "python3",
      "display_name": "Python 3"
    },
    "language_info": {
      "name": "python"
    }
  },
  "cells": [
    {
      "cell_type": "markdown",
      "metadata": {
        "id": "view-in-github",
        "colab_type": "text"
      },
      "source": [
        "<a href=\"https://colab.research.google.com/github/steveding1/DA-learning/blob/master/Alltrails.ipynb\" target=\"_parent\"><img src=\"https://colab.research.google.com/assets/colab-badge.svg\" alt=\"Open In Colab\"/></a>"
      ]
    },
    {
      "cell_type": "code",
      "execution_count": 1,
      "metadata": {
        "id": "mv8mUAiHO5pA"
      },
      "outputs": [],
      "source": [
        "from bs4 import BeautifulSoup\n",
        "import pandas as pd\n",
        "import re"
      ]
    },
    {
      "cell_type": "code",
      "source": [
        "with open('banff.html','r') as f:\n",
        "  html = f.read()\n",
        "soup = BeautifulSoup(html, 'html.parser')"
      ],
      "metadata": {
        "id": "EFOzJEYZQdDV"
      },
      "execution_count": 20,
      "outputs": []
    },
    {
      "cell_type": "code",
      "source": [
        "#url\n",
        "soup.find_all('a', class_=\"MAeU7STjXOwFXsjoI5meHg== E8W6wpmnshxeFElAofUjoA==\")[0].get('href')\n",
        "#Trail_location\n",
        "soup.find_all('a', class_=\"FeN09tTLRWzcvnAx7iliJw== YUdyXKFWY0YDKYzMi-qVJg==\")[13].string\n",
        "#Trail_Difficulty\n",
        "soup.find_all('span', {\"data-testid\":re.compile(\"_Difficulty$\")})\n",
        "#Rating\n",
        "soup.find_all('span', class_=\"lwzqbqErqDlQCv5VR6Cw5w==\")[0]\n",
        "#ReviewCount\n",
        "soup.find_all('span', class_=\"C4Aa+9jSPShFuEehAasL9g==\")\n",
        "#Length: 7.4 km\n",
        "soup.find_all(text=re.compile('Length: '))\n",
        "#Est. 2h 49m\n",
        "#for i in soup.find_all('div', {\"data-testid\":re.compile(\"_Stats$\")}):\n",
        "#  print(i.text.split('Est. ')[1])"
      ],
      "metadata": {
        "id": "zuzn6HWJQqPM"
      },
      "execution_count": null,
      "outputs": []
    },
    {
      "cell_type": "code",
      "source": [
        "c = 0\n",
        "for i in soup.find_all('div', {\"data-testid\":re.compile(\"_Stats$\")}):\n",
        "  if len(i.text.split('Est. ')) > 1:\n",
        "    print(i.text.split('Est. '))\n",
        "  c+=1\n",
        "print(c)"
      ],
      "metadata": {
        "id": "EKWzP3btZTnP"
      },
      "execution_count": null,
      "outputs": []
    },
    {
      "cell_type": "code",
      "source": [
        "#url\n",
        "urls = [s.get('href') for s in soup.find_all('a', class_=\"MAeU7STjXOwFXsjoI5meHg== E8W6wpmnshxeFElAofUjoA==\")]\n",
        "#Trail_location\n",
        "locations = [s.text for s in soup.find_all('a', class_=\"MAeU7STjXOwFXsjoI5meHg== E8W6wpmnshxeFElAofUjoA==\")]\n",
        "#Trail_Difficulty\n",
        "difficulties = [s.text for s in soup.find_all('span', {\"data-testid\":re.compile(\"_Difficulty$\")})]\n",
        "#Rating\n",
        "ratings = [float(s.text) for s in soup.find_all('span', class_=\"lwzqbqErqDlQCv5VR6Cw5w==\")]\n",
        "#ReviewCount\n",
        "review_counts = [int(re.sub(\"[^0-9]\", \"\", s.text)) for s in soup.find_all('span', class_=\"C4Aa+9jSPShFuEehAasL9g==\")]\n",
        "#Length: 7.4 km\n",
        "lengths = [str(s.string).replace('Length: ', '').replace(' km', '') for s in soup.find_all(text=re.compile('Length: '))]\n",
        "#Est. 2h 49m\n",
        "est_time = [s.text.split('Est. ')[1] if len(s.text.split('Est. '))==2 else 'NA' for s in soup.find_all('div', {\"data-testid\":re.compile(\"_Stats$\")})]"
      ],
      "metadata": {
        "id": "5Xsor43rf1ql"
      },
      "execution_count": 22,
      "outputs": []
    },
    {
      "cell_type": "code",
      "source": [
        "#est_time 2h 49m to minutes:\n",
        "est_time1 = []\n",
        "regexp = re.compile(r'\\dm')\n",
        "for e in est_time:\n",
        "  if e == 'Multi-day':\n",
        "    est_time1.append(9999)\n",
        "  elif regexp.search(e):\n",
        "    if 'h' in e:\n",
        "      split = e.split('h ')\n",
        "      hour = int(split[0])\n",
        "      minutes = int(split[1].replace('m',''))\n",
        "    else:\n",
        "      minutes = int(e.replace('m',''))\n",
        "    est_time1.append(hour * 60 + minutes)\n",
        "  else:\n",
        "    est_time1.append(None)"
      ],
      "metadata": {
        "id": "IR5DiopislRc"
      },
      "execution_count": 23,
      "outputs": []
    },
    {
      "cell_type": "code",
      "source": [
        "len(soup.find_all(text=re.compile('Length:')))"
      ],
      "metadata": {
        "colab": {
          "base_uri": "https://localhost:8080/"
        },
        "id": "IAjgoLdUuwt0",
        "outputId": "ac956d77-58f1-4737-8653-648a3a65ed38"
      },
      "execution_count": 21,
      "outputs": [
        {
          "output_type": "execute_result",
          "data": {
            "text/plain": [
              "339"
            ]
          },
          "metadata": {},
          "execution_count": 21
        }
      ]
    },
    {
      "cell_type": "code",
      "source": [
        "data = pd.DataFrame(\n",
        "    {\"urls\": urls,\n",
        "\"locations\": locations,\n",
        "\"difficulties\": difficulties,\n",
        "\"ratings\": ratings,\n",
        "\"reviews\": review_counts,\n",
        "\"lengths\": lengths,\n",
        "\"est_time(minutes)\": est_time1})"
      ],
      "metadata": {
        "id": "4mUS1T6dk02k"
      },
      "execution_count": 24,
      "outputs": []
    },
    {
      "cell_type": "code",
      "source": [
        "data.lengths = data.lengths.astype('float')\n",
        "data.info()"
      ],
      "metadata": {
        "colab": {
          "base_uri": "https://localhost:8080/"
        },
        "id": "1LxfqVoUzJ3U",
        "outputId": "3bbb0eff-c337-4ebd-cd76-432b74a0ba99"
      },
      "execution_count": 25,
      "outputs": [
        {
          "output_type": "stream",
          "name": "stdout",
          "text": [
            "<class 'pandas.core.frame.DataFrame'>\n",
            "RangeIndex: 339 entries, 0 to 338\n",
            "Data columns (total 7 columns):\n",
            " #   Column             Non-Null Count  Dtype  \n",
            "---  ------             --------------  -----  \n",
            " 0   urls               339 non-null    object \n",
            " 1   locations          339 non-null    object \n",
            " 2   difficulties       339 non-null    object \n",
            " 3   ratings            339 non-null    float64\n",
            " 4   reviews            339 non-null    int64  \n",
            " 5   lengths            339 non-null    float64\n",
            " 6   est_time(minutes)  324 non-null    float64\n",
            "dtypes: float64(3), int64(1), object(3)\n",
            "memory usage: 18.7+ KB\n"
          ]
        }
      ]
    },
    {
      "cell_type": "code",
      "source": [
        "data.isnull().sum()"
      ],
      "metadata": {
        "colab": {
          "base_uri": "https://localhost:8080/"
        },
        "id": "QI2-PZwo3sJS",
        "outputId": "0cbe3741-865e-460a-c771-fcf94905f57d"
      },
      "execution_count": 26,
      "outputs": [
        {
          "output_type": "execute_result",
          "data": {
            "text/plain": [
              "urls                  0\n",
              "locations             0\n",
              "difficulties          0\n",
              "ratings               0\n",
              "reviews               0\n",
              "lengths               0\n",
              "est_time(minutes)    15\n",
              "dtype: int64"
            ]
          },
          "metadata": {},
          "execution_count": 26
        }
      ]
    },
    {
      "cell_type": "code",
      "source": [
        "data.difficulties.value_counts()"
      ],
      "metadata": {
        "colab": {
          "base_uri": "https://localhost:8080/"
        },
        "id": "QrcKn1eS4QyQ",
        "outputId": "6c4024b4-c820-4c80-9980-b5325e6f376c"
      },
      "execution_count": 27,
      "outputs": [
        {
          "output_type": "execute_result",
          "data": {
            "text/plain": [
              "Hard        179\n",
              "Moderate    108\n",
              "Easy         52\n",
              "Name: difficulties, dtype: int64"
            ]
          },
          "metadata": {},
          "execution_count": 27
        }
      ]
    },
    {
      "cell_type": "code",
      "source": [
        "data.ratings.value_counts().sort_index().plot(kind='bar')"
      ],
      "metadata": {
        "colab": {
          "base_uri": "https://localhost:8080/",
          "height": 288
        },
        "id": "rrn1U2794ZUZ",
        "outputId": "23235b95-be85-4c73-cd28-9b7ec20e40fa"
      },
      "execution_count": 28,
      "outputs": [
        {
          "output_type": "execute_result",
          "data": {
            "text/plain": [
              "<matplotlib.axes._subplots.AxesSubplot at 0x7f3177c90450>"
            ]
          },
          "metadata": {},
          "execution_count": 28
        },
        {
          "output_type": "display_data",
          "data": {
            "text/plain": [
              "<Figure size 432x288 with 1 Axes>"
            ],
            "image/png": "[encoded data removed]"
          },
          "metadata": {
            "needs_background": "light"
          }
        }
      ]
    },
    {
      "cell_type": "code",
      "source": [
        "#trails > 50 km\n",
        "data.lengths.sort_values()[-13:-3]"
      ],
      "metadata": {
        "colab": {
          "base_uri": "https://localhost:8080/"
        },
        "id": "gNpgPGMK5j47",
        "outputId": "2dd5d73c-ff58-46f7-c1e9-ea8999b2929d"
      },
      "execution_count": 62,
      "outputs": [
        {
          "output_type": "execute_result",
          "data": {
            "text/plain": [
              "153    50.7\n",
              "178    51.0\n",
              "109    51.7\n",
              "202    53.4\n",
              "185    56.6\n",
              "63     57.1\n",
              "323    61.0\n",
              "147    70.0\n",
              "229    75.8\n",
              "250    77.7\n",
              "Name: lengths, dtype: float64"
            ]
          },
          "metadata": {},
          "execution_count": 62
        }
      ]
    },
    {
      "cell_type": "code",
      "source": [
        "import seaborn as sn\n",
        "sn.distplot(data.lengths.sort_values()[:-3],kde=False)\n",
        "#most of trails less than 20km"
      ],
      "metadata": {
        "colab": {
          "base_uri": "https://localhost:8080/",
          "height": 351
        },
        "id": "vBOR4MzPVvq_",
        "outputId": "4f09b26e-86fc-4f57-dce3-ad22e88d5632"
      },
      "execution_count": 64,
      "outputs": [
        {
          "output_type": "stream",
          "name": "stderr",
          "text": [
            "/usr/local/lib/python3.7/dist-packages/seaborn/distributions.py:2619: FutureWarning: `distplot` is a deprecated function and will be removed in a future version. Please adapt your code to use either `displot` (a figure-level function with similar flexibility) or `histplot` (an axes-level function for histograms).\n",
            "  warnings.warn(msg, FutureWarning)\n"
          ]
        },
        {
          "output_type": "execute_result",
          "data": {
            "text/plain": [
              "<matplotlib.axes._subplots.AxesSubplot at 0x7f31654ff1d0>"
            ]
          },
          "metadata": {},
          "execution_count": 64
        },
        {
          "output_type": "display_data",
          "data": {
            "text/plain": [
              "<Figure size 432x288 with 1 Axes>"
            ],
            "image/png": "[encoded data removed]"
          },
          "metadata": {
            "needs_background": "light"
          }
        }
      ]
    },
    {
      "cell_type": "code",
      "source": [
        "# time length distribution - there are a lot in around 6 hours.\n",
        "sn.distplot(data[data['est_time(minutes)']!=9999]['est_time(minutes)'],kde=False)"
      ],
      "metadata": {
        "colab": {
          "base_uri": "https://localhost:8080/",
          "height": 352
        },
        "id": "ZE1Mz6Z26aJ7",
        "outputId": "74217743-2174-4693-a8a4-e44872e047bb"
      },
      "execution_count": 79,
      "outputs": [
        {
          "output_type": "stream",
          "name": "stderr",
          "text": [
            "/usr/local/lib/python3.7/dist-packages/seaborn/distributions.py:2619: FutureWarning: `distplot` is a deprecated function and will be removed in a future version. Please adapt your code to use either `displot` (a figure-level function with similar flexibility) or `histplot` (an axes-level function for histograms).\n",
            "  warnings.warn(msg, FutureWarning)\n"
          ]
        },
        {
          "output_type": "execute_result",
          "data": {
            "text/plain": [
              "<matplotlib.axes._subplots.AxesSubplot at 0x7f31652de610>"
            ]
          },
          "metadata": {},
          "execution_count": 79
        },
        {
          "output_type": "display_data",
          "data": {
            "text/plain": [
              "<Figure size 432x288 with 1 Axes>"
            ],
            "image/png": "[encoded data removed]"
          },
          "metadata": {
            "needs_background": "light"
          }
        }
      ]
    }
  ]
}